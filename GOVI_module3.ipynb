{
 "cells": [
  {
   "cell_type": "code",
   "execution_count": 1,
   "metadata": {},
   "outputs": [
    {
     "name": "stdout",
     "output_type": "stream",
     "text": [
      "\n",
      "** Lab Big Data in Geographic Information Systems **\n",
      "*** Module 3: Climate models ***\n",
      "\n"
     ]
    }
   ],
   "source": [
    "#!/usr/local/bin/python3\t\n",
    "\n",
    "print ('')\n",
    "print ('** Lab Big Data in Geographic Information Systems **')\n",
    "print ('*** Module 3: Climate models ***')\n",
    "print ('')\n",
    "\n",
    "from netCDF4 import Dataset\n",
    "import numpy as np\n",
    "from math import cos, radians\n",
    "import datetime\n",
    "from dateutil.relativedelta import relativedelta\n",
    "\n",
    "import matplotlib.pyplot as plt\n",
    "import matplotlib as mpl\n",
    "from matplotlib import gridspec\n",
    "\n",
    "import cartopy.crs as ccrs\n",
    "import cartopy.feature as cfeature\n",
    "from cartopy.util import add_cyclic_point\n",
    "\n",
    "from ncdump import ncdump"
   ]
  },
  {
   "cell_type": "code",
   "execution_count": 2,
   "metadata": {},
   "outputs": [
    {
     "name": "stdout",
     "output_type": "stream",
     "text": [
      "NetCDF Global Attributes:\n",
      "\tname: '/ccc/work/cont003/gencmip6/p86maf/IGCM_OUT/IPSLCM6/PROD/historical/CM61-LR-hist-03.2230/CMIP6/ATM/ts_Amon_IPSL-CM6A-LR_historical_r11i1p1f1_gr_%start_date%-%end_date%'\n",
      "\tConventions: 'CF-1.7 CMIP-6.2'\n",
      "\tcreation_date: '2018-06-18T08:06:45Z'\n",
      "\ttracking_id: 'hdl:21.14100/fa31918b-fe1e-493b-8f1a-5e77edf095dc'\n",
      "\tdescription: 'CMIP6 historical'\n",
      "\ttitle: 'IPSL-CM6A-LR model output prepared for CMIP6 / CMIP historical'\n",
      "\tactivity_id: 'CMIP'\n",
      "\tcontact: 'ipsl-cmip6@listes.ipsl.fr'\n",
      "\tdata_specs_version: '01.00.21'\n",
      "\tdr2xml_version: '1.10'\n",
      "\texperiment_id: 'historical'\n",
      "\texperiment: 'all-forcing simulation of the recent past'\n",
      "\texternal_variables: 'areacella'\n",
      "\tforcing_index: 1\n",
      "\tfrequency: 'mon'\n",
      "\tfurther_info_url: 'https://furtherinfo.es-doc.org/CMIP6.IPSL.IPSL-CM6A-LR.historical.none.r11i1p1f1'\n",
      "\tgrid: 'LMDZ grid'\n",
      "\tgrid_label: 'gr'\n",
      "\tnominal_resolution: '250 km'\n",
      "\tinitialization_index: 1\n",
      "\tinstitution_id: 'IPSL'\n",
      "\tinstitution: 'Institut Pierre Simon Laplace, Paris 75252, France'\n",
      "\tlicense: 'CMIP6 model data produced by IPSL is licensed under a Creative Commons Attribution-NonCommercial-ShareAlike 4.0 International License (https://creativecommons.org/licenses). Consult https://pcmdi.llnl.gov/CMIP6/TermsOfUse for terms of use governing CMIP6 output, including citation requirements and proper acknowledgment. Further information about this data, including some limitations, can be found via the further_info_url (recorded as a global attribute in this file) and at https://cmc.ipsl.fr/. The data producers and data providers make no warranty, either express or implied, including, but not limited to, warranties of merchantability and fitness for a particular purpose. All liabilities arising from the supply of the information (including any liability arising in negligence) are excluded to the fullest extent permitted by law.'\n",
      "\tmip_era: 'CMIP6'\n",
      "\tparent_experiment_id: 'piControl'\n",
      "\tparent_mip_era: 'CMIP6'\n",
      "\tparent_activity_id: 'CMIP'\n",
      "\tparent_source_id: 'IPSL-CM6A-LR'\n",
      "\tparent_time_units: 'days since 1850-01-01 00:00:00'\n",
      "\tbranch_method: 'standard'\n",
      "\tbranch_time_in_parent: 138792.0\n",
      "\tbranch_time_in_child: 0.0\n",
      "\tphysics_index: 1\n",
      "\tproduct: 'model-output'\n",
      "\trealization_index: 11\n",
      "\trealm: 'atmos'\n",
      "\tsource: 'IPSL-CM6A-LR (2017):  atmos: LMDZ (NPv6, N96; 144 x 143 longitude/latitude; 79 levels; top level 40000 m) land: ORCHIDEE (v2.0, Water/Carbon/Energy mode) ocean: NEMO-OPA (eORCA1.3, tripolar primarily 1deg; 362 x 332 longitude/latitude; 75 levels; top grid cell 0-2 m) ocnBgchem: NEMO-PISCES seaIce: NEMO-LIM3'\n",
      "\tsource_id: 'IPSL-CM6A-LR'\n",
      "\tsource_type: 'AOGCM BGC'\n",
      "\tsub_experiment_id: 'none'\n",
      "\tsub_experiment: 'none'\n",
      "\ttable_id: 'Amon'\n",
      "\tvariable_id: 'ts'\n",
      "\tvariant_label: 'r11i1p1f1'\n",
      "\tEXPID: 'historical'\n",
      "\tCMIP6_CV_version: 'cv=6.2.3.5-2-g63b123e'\n",
      "\tdr2xml_md5sum: 'd6225e658d7de0912fca2a4293dbe2a7'\n",
      "\tmodel_version: '6.1.4'\n",
      "\thistory: 'Mon Sep  3 18:11:43 2018: ncatted -O -a parent_variant_label,global,m,c,r1i1p1f1 ts_Amon_IPSL-CM6A-LR_historical_r11i1p1f1_gr_185001-201412.nc\\nnone'\n",
      "\tparent_variant_label: 'r1i1p1f1'\n",
      "NetCDF dimension information:\n",
      "\tName: axis_nbounds\n",
      "\t\tsize: 2\n",
      "\t\tWARNING: axis_nbounds does not contain variable attributes\n",
      "\tName: lon\n",
      "\t\tsize: 144\n",
      "\t\ttype: dtype('float32')\n",
      "\t\taxis: 'X'\n",
      "\t\tstandard_name: 'longitude'\n",
      "\t\tlong_name: 'Longitude'\n",
      "\t\tunits: 'degrees_east'\n",
      "\tName: lat\n",
      "\t\tsize: 143\n",
      "\t\ttype: dtype('float32')\n",
      "\t\taxis: 'Y'\n",
      "\t\tstandard_name: 'latitude'\n",
      "\t\tlong_name: 'Latitude'\n",
      "\t\tunits: 'degrees_north'\n",
      "\tName: time\n",
      "\t\tsize: 1980\n",
      "\t\ttype: dtype('float64')\n",
      "\t\taxis: 'T'\n",
      "\t\tstandard_name: 'time'\n",
      "\t\tlong_name: 'Time axis'\n",
      "\t\tcalendar: 'gregorian'\n",
      "\t\tunits: 'days since 1850-01-01 00:00:00'\n",
      "\t\ttime_origin: '1850-01-01 00:00:00'\n",
      "\t\tbounds: 'time_bounds'\n",
      "NetCDF variable information:\n",
      "\tName: time_bounds\n",
      "\t\tdimensions: ('time', 'axis_nbounds')\n",
      "\t\tsize: 3960\n",
      "\t\ttype: dtype('float64')\n",
      "\tName: ts\n",
      "\t\tdimensions: ('time', 'lat', 'lon')\n",
      "\t\tsize: 40772160\n",
      "\t\ttype: dtype('float32')\n",
      "\t\tlong_name: 'Surface Temperature'\n",
      "\t\tunits: 'K'\n",
      "\t\tonline_operation: 'average'\n",
      "\t\tcell_methods: 'area: time: mean'\n",
      "\t\tinterval_operation: '900 s'\n",
      "\t\tinterval_write: '1 month'\n",
      "\t\t_FillValue: 1e+20\n",
      "\t\tmissing_value: 1e+20\n",
      "\t\tcoordinates: ''\n",
      "\t\tstandard_name: 'surface_temperature'\n",
      "\t\tdescription: 'Surface temperature (skin for open ocean)'\n",
      "\t\thistory: 'none'\n",
      "\t\tcell_measures: 'area: areacella'\n"
     ]
    }
   ],
   "source": [
    "#-------------------------------------------------\n",
    "#-- Task 1 ---------------------------------------\n",
    "#-------------------------------------------------\n",
    "\n",
    "#-------------------------------------------------\n",
    "#-- Explore structure of netCDF file--------------\n",
    "#-------------------------------------------------\n",
    "\n",
    "modfile='ts_Amon_IPSL-CM6A-LR_historical_r11i1p1f1_gr_185001-201412.nc'\n",
    "#modfile='./ts_Amon_BCC-ESM1_historical_r1i1p1f1_gn_185001-201412.nc'\n",
    "\n",
    "#- extract model name\n",
    "start='ts_Amon_'\n",
    "end='_historical_r1i1p1f1_gr_185001-201412.nc'\n",
    "model=modfile[len(start):-len(end)]\n",
    "\n",
    "nc_fid = Dataset(modfile, 'r')\n",
    "nc_attrs, nc_dims, nc_vars = ncdump(nc_fid)"
   ]
  },
  {
   "cell_type": "code",
   "execution_count": 3,
   "metadata": {},
   "outputs": [
    {
     "name": "stdout",
     "output_type": "stream",
     "text": [
      "nlon= 144 ; nlat= 143\n",
      "(1980, 143, 144)\n",
      "[ 15.5  45.   74.5 105.  135.5 166.  196.5 227.5 258.  288.5]\n"
     ]
    }
   ],
   "source": [
    "#-------------------------------------------------\n",
    "#-- Task 2 ---------------------------------------\n",
    "#-------------------------------------------------\n",
    "\n",
    "#-------------------------------------------------\n",
    "#-- Read data from cetCDF file -------------------\n",
    "#-------------------------------------------------\n",
    "\n",
    "fh = Dataset(modfile, mode='r')\n",
    "#~~~~~~~~~~~~~~~~~~~~~~~~~~~~~~~~~~~~~~~~~~~~~~~~~~~~~~~~~~~~\n",
    "mlons = fh.variables['lon'][:]\n",
    "mlats = fh.variables['lat'][:]\n",
    "mtime = fh.variables['time'][:]\n",
    "mts = fh.variables['ts'][:,:,:]\n",
    "#~~~~~~~~~~~~~~~~~~~~~~~~~~~~~~~~~~~~~~~~~~~~~~~~~~~~~~~~~~~~\n",
    "fh.close()\n",
    "\n",
    "nlon=len(mlons)\n",
    "nlat=len(mlats)\n",
    "nmonths=len(mtime)\n",
    "\n",
    "#- check dimensions\n",
    "print('nlon=',nlon,'; nlat=',nlat)\n",
    "print(np.shape(mts))\n",
    "print(mtime[0:10])\n",
    "\n",
    "#- Arrange time array\n",
    "t=np.empty([nmonths],dtype=object)\n",
    "for ti in range(0,nmonths):\n",
    "  t[ti] = datetime.date.fromordinal(int(mtime[ti])) + relativedelta(years=1849)  #+datetime.timedelta(days=365*1850)\n",
    "  #print(ti,mtime[ti],int(mtime[ti]),datetime.date.fromordinal(int(mtime[ti])), t[ti])\n",
    "\n",
    "mts = mts -273.15   # Kelvin to Celsius"
   ]
  },
  {
   "cell_type": "code",
   "execution_count": 4,
   "metadata": {},
   "outputs": [],
   "source": [
    "#-------------------------------------------------\n",
    "#-- Make some plots-------------------------------\n",
    "#-------------------------------------------------\n",
    "\n",
    "#- First plot map of average temperatures \n",
    "\n",
    "#- Set plot\n",
    "fig = plt.figure(figsize=(9,6))\n",
    "\n",
    "ax = plt.axes(projection=ccrs.Robinson())\n",
    "\n",
    "plt.title(' '.join(['Average surface temperature historical simulation \\n ',model]))\n",
    "ax.set_global()\n",
    "\n",
    "#- calculate time average and convert from Kelvin to Celsius\n",
    "mts_avg = np.mean(mts,axis=0)#-273.15\n",
    "\n",
    "#- add cyclic point form plotting purposes\n",
    "mts_avg_cyc, mlons_cyc = add_cyclic_point(mts_avg, coord=mlons)\n",
    "\n",
    "#- plot map\n",
    "mm = ax.pcolormesh(mlons_cyc, mlats, mts_avg_cyc, \\\n",
    "                   transform=ccrs.PlateCarree(),cmap=mpl.cm.gist_ncar )\n",
    "ax.coastlines()\n",
    "\n",
    "#- add colorbar\n",
    "cbar_ax = fig.add_axes([0.28, 0.10, 0.46, 0.05]) #[left, bottom, width, height]\n",
    "cbar = fig.colorbar(mm, cax=cbar_ax, extend='both', orientation='horizontal')\n",
    "cbar.set_label('Celsius') #($\\mu g$ $m^{-3}$)\n",
    "cbar.ax.tick_params(labelsize=8)\n",
    "\n",
    "#plt.show()\n",
    "plt.savefig('Module3_plot01.pdf')\n",
    "plt.close()"
   ]
  },
  {
   "cell_type": "code",
   "execution_count": 5,
   "metadata": {},
   "outputs": [
    {
     "name": "stdout",
     "output_type": "stream",
     "text": [
      "-90.0 90.0\n"
     ]
    }
   ],
   "source": [
    "#- Now plot time series of NH average temperatures \n",
    "\n",
    "# check axes directions\n",
    "print(mlats[0],mlats[nlat-1])\n",
    "\n",
    "#- calculate weighted average\n",
    "mts_nh = np.ma.zeros([nmonths],dtype=float)*0.0\n",
    "#print(mts_nh[0:10])\n",
    "#print(\"%%%%%%%%%%%%%%%%%%%%\")\n",
    "w = 0.0\n",
    "\n",
    "for i in range(0,nlon-1):\n",
    "  for j in range(int(0.5*(nlat)),nlat-1):\n",
    "    #print(i,j,mlons[i],mlats[j],cos(radians(mlats[j])),mts[:,i,j].mean(),np.mean(mts_nh),w )\n",
    "    w = w + cos(radians(mlats[j]))\n",
    "    mts_nh = mts_nh + mts[:,j,i] * cos(radians(mlats[j])) \n",
    "    if (mlons[j+1] < 0):\n",
    "      print(\"Wrong direction for latitudes !\")\n",
    "      break\n",
    "mts_nh0=np.divide(mts_nh,w)\n",
    "\n",
    "\n",
    "#- plot time series\n",
    "\n",
    "fig = plt.figure(figsize=(9,6))\n",
    "plt.title(' '.join(['Surface temperature historical simulation - Horthen Hemisphere \\n',model]))\n",
    "\n",
    "#plt.plot(mtime,mts_nh0)\n",
    "plt.plot(t,mts_nh0)\n",
    "\n",
    "plt.xlabel('Time')\n",
    "plt.ylabel('Temp. (Celsius)')\n",
    "\n",
    "#plt.show()\n",
    "plt.savefig('Module3_plot02.pdf')\n",
    "plt.close()"
   ]
  },
  {
   "cell_type": "markdown",
   "metadata": {},
   "source": [
    "# Task 3\n",
    "Plot the time series of annual average surface temperature from a model of\n",
    "your choice, for the Antarctic region (latitudes < 75° S)"
   ]
  },
  {
   "cell_type": "markdown",
   "metadata": {},
   "source": [
    "Converto il timestamp del dataset in un formato datetime.\n",
    "Estraggo le informazioni sugli anni."
   ]
  },
  {
   "cell_type": "code",
   "execution_count": 8,
   "metadata": {},
   "outputs": [],
   "source": [
    "stt = datetime.date(1850,1,1) \n",
    "delta_t = [datetime.timedelta(time)  for time in mtime]\n",
    "o_t = [stt + delta for delta in delta_t]\n",
    "years = [date.year for date in o_t]"
   ]
  },
  {
   "cell_type": "markdown",
   "metadata": {},
   "source": [
    "Costruisco un dizionario che contiene per ogni anno informazioni sulla temperatura dell'area antartica.\n",
    "Preferisco il dizionario ad un dataframe per motivi di implementazione e di efficienza nell'estrazione dei valori."
   ]
  },
  {
   "cell_type": "code",
   "execution_count": 9,
   "metadata": {},
   "outputs": [],
   "source": [
    "antarctic_dict = dict()\n",
    "mts_antarctic = mts[:,mlats < -75,:]\n",
    "i = 0\n",
    "for year in years:\n",
    "    if year not in antarctic_dict.keys(): # if year is still not present create it\n",
    "        antarctic_dict[year] = mts_antarctic[i].ravel()\n",
    "    else: # otherwise append new data\n",
    "        antarctic_dict[year] = np.concatenate(\n",
    "                                (antarctic_dict[year],mts_antarctic[i].ravel())\n",
    "                                )\n",
    "    i += 1"
   ]
  },
  {
   "cell_type": "markdown",
   "metadata": {},
   "source": [
    "Calcolo il valore medio per ogni anno"
   ]
  },
  {
   "cell_type": "code",
   "execution_count": 10,
   "metadata": {},
   "outputs": [],
   "source": [
    "y_avg = [np.mean(antarctic_dict[year]) for year in antarctic_dict]\n",
    "y_unique = antarctic_dict.keys()"
   ]
  },
  {
   "cell_type": "markdown",
   "metadata": {},
   "source": [
    "Plotto le informazioni ottenute"
   ]
  },
  {
   "cell_type": "code",
   "execution_count": 13,
   "metadata": {},
   "outputs": [
    {
     "data": {
      "image/png": "[encoded data removed]",
      "text/plain": [
       "<Figure size 648x432 with 1 Axes>"
      ]
     },
     "metadata": {
      "needs_background": "light"
     },
     "output_type": "display_data"
    }
   ],
   "source": [
    "fig = plt.figure(figsize=(9,6))\n",
    "plt.title(' '.join(['Surface temperature annual average - Antarctic Region \\n',model]))\n",
    "plt.plot(y_unique,y_avg)\n",
    "plt.xlabel('Year')\n",
    "plt.ylabel('C°')\n",
    "plt.show()"
   ]
  },
  {
   "cell_type": "markdown",
   "metadata": {},
   "source": [
    "# Task 4"
   ]
  },
  {
   "cell_type": "markdown",
   "metadata": {},
   "source": [
    "Plot the average annual cycle (and variability) of surface temperature around\n",
    "Milan (45.46° N, 9.19° E) or another location of your choice, as simulated\n",
    "from one model of your choice"
   ]
  },
  {
   "cell_type": "markdown",
   "metadata": {},
   "source": [
    "Similarmente a quanto fatto per il Task 3 estraggo stavolta l'informazione sui mesi."
   ]
  },
  {
   "cell_type": "code",
   "execution_count": 15,
   "metadata": {},
   "outputs": [],
   "source": [
    "months = [date.month for date in o_t]"
   ]
  },
  {
   "cell_type": "markdown",
   "metadata": {},
   "source": [
    "Definisco l'area di Pisa impostando un intervallo sia per latitudine che per longitudine"
   ]
  },
  {
   "cell_type": "code",
   "execution_count": 16,
   "metadata": {},
   "outputs": [],
   "source": [
    "mts_pisa = mts[:,(mlats >= 38) & (mlats <= 48),:]\n",
    "mts_pisa = mts_pisa[:,:,(mlons >= 185) & (mlons <= 195)]"
   ]
  },
  {
   "cell_type": "markdown",
   "metadata": {},
   "source": [
    "A differenza del Task 3 questa volta creo sì un dizionario ma con granularità mensile"
   ]
  },
  {
   "cell_type": "code",
   "execution_count": 20,
   "metadata": {},
   "outputs": [],
   "source": [
    "pisa_dict = dict()\n",
    "i = 0\n",
    "for month in months:\n",
    "    if month not in pisa_dict.keys():\n",
    "        pisa_dict[month] = mts_pisa[i].ravel()\n",
    "    else:\n",
    "        pisa_dict[month] = np.concatenate(\n",
    "                                (pisa_dict[month],mts_pisa[i].ravel())\n",
    "                                )\n",
    "    i += 1"
   ]
  },
  {
   "cell_type": "markdown",
   "metadata": {},
   "source": [
    "Calcolo il valore medio per mese e plotto le informazioni ottenute andando ad evidenziare in rosso il livello di variabilità per ogni mese"
   ]
  },
  {
   "cell_type": "code",
   "execution_count": 25,
   "metadata": {},
   "outputs": [
    {
     "data": {
      "image/png": "[encoded data removed]",
      "text/plain": [
       "<Figure size 648x432 with 1 Axes>"
      ]
     },
     "metadata": {
      "needs_background": "light"
     },
     "output_type": "display_data"
    }
   ],
   "source": [
    "mo_avg = [np.mean(pisa_dict[month]) for month in pisa_dict]\n",
    "mo_std = [np.std(pisa_dict[month]) for month in pisa_dict]\n",
    "mo_unique = pisa_dict.keys()\n",
    "fig = plt.figure(figsize=(9,6))\n",
    "plt.title(' '.join(['Surface temperature average annual - Pisa Area \\n',model]))\n",
    "\n",
    "\n",
    "plt.errorbar(mo_unique,mo_avg,mo_std,\n",
    "             capsize = 2, \n",
    "             capthick = 1.5,\n",
    "             marker = 'o',\n",
    "             ecolor = 'red' # red errorbar\n",
    "            )\n",
    "\n",
    "plt.xlabel('Month')\n",
    "plt.ylabel('C°')\n",
    "ax = plt.subplot()\n",
    "\n",
    "# customize the x axis to plot the month names\n",
    "ax.set_xticks(list(mo_unique))\n",
    "ax.set_xlabel('')\n",
    "plt.show()"
   ]
  },
  {
   "cell_type": "markdown",
   "metadata": {},
   "source": [
    "Per entrambi i task è stato utilizzato il file ts_Amon_IPSL-CM6A-LR_historical_r11i1p1f1_gr_185001-201412.nc"
   ]
  },
  {
   "cell_type": "code",
   "execution_count": null,
   "metadata": {},
   "outputs": [],
   "source": []
  }
 ],
 "metadata": {
  "kernelspec": {
   "display_name": "Python 3",
   "language": "python",
   "name": "python3"
  },
  "language_info": {
   "codemirror_mode": {
    "name": "ipython",
    "version": 3
   },
   "file_extension": ".py",
   "mimetype": "text/x-python",
   "name": "python",
   "nbconvert_exporter": "python",
   "pygments_lexer": "ipython3",
   "version": "3.6.8"
  }
 },
 "nbformat": 4,
 "nbformat_minor": 2
}
